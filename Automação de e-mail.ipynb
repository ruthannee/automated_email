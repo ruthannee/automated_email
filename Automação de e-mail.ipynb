{
 "cells": [
  {
   "cell_type": "markdown",
   "metadata": {},
   "source": [
    "# Automação de Sistemas e Processos com Python\n",
    "\n",
    "Todos os dias, um sistema atualiza as vendas do dia anterior.\n",
    "Esse notebook é um processo automatizado de envio de e-mail, com o valor do faturamento e a quantidade de produtos vendidos no dia anterior, de acordo com a planilha de Vendas.\n",
    "\n",
    "Para resolver isso, vamos usar o pyautogui: https://pyautogui.readthedocs.io/en/latest/quickstart.html"
   ]
  },
  {
   "cell_type": "code",
   "execution_count": null,
   "metadata": {},
   "outputs": [],
   "source": [
    "# Lib para automatizar comandos de mouse e teclado\n",
    "import pyautogui\n",
    "# Lib utilizada para que os links sejam lidos com seus caracteres especiais (ex.: \"?\")\n",
    "import pyperclip\n",
    "# Lib utilizada para adicionar um delay no programa, após executar um comando\n",
    "import time"
   ]
  },
  {
   "cell_type": "code",
   "execution_count": null,
   "metadata": {},
   "outputs": [],
   "source": [
    "# Cada comando é desacelerado em 1 segundo\n",
    "pyautogui.PAUSE = 1\n",
    "\n",
    "# Passo 1: Acessar o link\n",
    "pyautogui.hotkey(\"ctrl\", \"t\")\n",
    "# Caminho onde o sistema disponibiliza a planilha de vendas do dia anterior\n",
    "pyperclip.copy(\"https://drive.google.com/drive/folders/seu_caminho_aqui\")\n",
    "pyautogui.hotkey(\"ctrl\", \"v\")\n",
    "pyautogui.press(\"enter\")\n",
    "\n",
    "# Delay de 5 segundos até executar o próximo comando, para carregar a página\n",
    "time.sleep(5)\n",
    "\n",
    "# Passo 2: Navegar até o relatório, na pasta \"Exportar\", pelas posições da tela (X e Y)\n",
    "# pyautogui.position()\n",
    "pyautogui.click(x=582, y=412, clicks=2)\n",
    "time.sleep(2)\n",
    "\n",
    "# Passo 3: Fazer o download do relatório\n",
    "pyautogui.click(x=562, y=388, button='right')\n",
    "pyautogui.click(x=717, y=936)\n",
    "time.sleep(7)"
   ]
  },
  {
   "cell_type": "markdown",
   "metadata": {},
   "source": [
    "### Ler o arquivo baixado e pegar os indicadores de Faturamento e Quantidade de Produtos"
   ]
  },
  {
   "cell_type": "code",
   "execution_count": null,
   "metadata": {},
   "outputs": [],
   "source": [
    "# Passo 4: Calcular os indicadores\n",
    "import pandas as pd\n",
    "\n",
    "tabela = pd.read_excel(r\"C:\\Users\\annec\\Downloads\\Vendas - Dez.xlsx\")\n",
    "display(tabela)\n",
    "faturamento = tabela[\"Valor Final\"].sum()\n",
    "quantidade = tabela[\"Quantidade\"].sum()"
   ]
  },
  {
   "cell_type": "markdown",
   "metadata": {},
   "source": [
    "### Enviar um e-mail pelo gmail"
   ]
  },
  {
   "cell_type": "code",
   "execution_count": null,
   "metadata": {},
   "outputs": [],
   "source": [
    "# Passo 5: Entrar no email\n",
    "pyautogui.hotkey(\"ctrl\", \"t\")\n",
    "pyperclip.copy(\"https://mail.google.com/mail/u/0/#inbox\")\n",
    "pyautogui.hotkey(\"ctrl\", \"v\")\n",
    "pyautogui.press(\"enter\")\n",
    "time.sleep(5)\n",
    "\n",
    "# Passo 6: Enviar por e-mail o resultado\n",
    "pyautogui.click(x=166, y=262)\n",
    "\n",
    "pyautogui.write(\"destinatario@gmail.com\")\n",
    "pyautogui.press(\"tab\") # seleciona o email\n",
    "# escreve outro email\n",
    "# tab\n",
    "# escreve outro email\n",
    "# tab\n",
    "pyautogui.press(\"tab\") # pula para o campo de assunto\n",
    "pyperclip.copy(\"Relatório de Vendas\")\n",
    "pyautogui.hotkey(\"ctrl\", \"v\") \n",
    "pyautogui.press(\"tab\") # pula para o corpo do email\n",
    "\n",
    "texto = f\"\"\"\n",
    "Prezados, boa tarde.\n",
    "\n",
    "O faturamento que corresponde ao dia anterior foi de: R${faturamento:,.2f}\n",
    "No total, a quantidade de produtos vendidos foi de: {quantidade:,}\n",
    "\n",
    "Cordialmente / Best Regards,\n",
    "\n",
    "Ruth Anne\"\"\"\n",
    "\n",
    "pyperclip.copy(texto)\n",
    "pyautogui.hotkey(\"ctrl\", \"v\")\n",
    "\n",
    "# Clicar no botão enviar\n",
    "pyautogui.hotkey(\"ctrl\", \"enter\")\n",
    "\n",
    "pyautogui.alert(\"Execução finalizada com sucesso!\")"
   ]
  },
  {
   "cell_type": "markdown",
   "metadata": {},
   "source": [
    "#### Código para descobrir qual a posição X e Y de uma janela\n",
    "\n",
    "- Lembrete: a posição de cada tela pode ser diferente"
   ]
  },
  {
   "cell_type": "code",
   "execution_count": null,
   "metadata": {},
   "outputs": [],
   "source": [
    "# time.sleep(5)\n",
    "# pyautogui.position()"
   ]
  },
  {
   "cell_type": "code",
   "execution_count": null,
   "metadata": {},
   "outputs": [],
   "source": [
    "# Como instalar\n",
    "# !pip install pyautogui\n",
    "# !pip install pyperclip"
   ]
  }
 ],
 "metadata": {
  "kernelspec": {
   "display_name": "Python 3",
   "language": "python",
   "name": "python3"
  },
  "language_info": {
   "codemirror_mode": {
    "name": "ipython",
    "version": 3
   },
   "file_extension": ".py",
   "mimetype": "text/x-python",
   "name": "python",
   "nbconvert_exporter": "python",
   "pygments_lexer": "ipython3",
   "version": "3.8.8"
  }
 },
 "nbformat": 4,
 "nbformat_minor": 4
}
